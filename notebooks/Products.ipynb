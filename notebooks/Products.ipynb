{
 "cells": [
  {
   "cell_type": "code",
   "execution_count": 1,
   "id": "6e6b8702-9b3e-44bc-b233-cf2dd4e4882d",
   "metadata": {},
   "outputs": [],
   "source": [
    "import pandas as pd"
   ]
  },
  {
   "cell_type": "code",
   "execution_count": 3,
   "id": "5bd81351-67eb-4a14-90e8-673d5e48624b",
   "metadata": {},
   "outputs": [],
   "source": [
    "df = pd.read_excel(\"data/raw/Excel Report.xlsx\")"
   ]
  },
  {
   "cell_type": "code",
   "execution_count": 5,
   "id": "389e5272-5c53-4494-af7d-ec52d72ed485",
   "metadata": {},
   "outputs": [
    {
     "data": {
      "text/plain": [
       "Index(['Org ID', 'Farm Id', 'Farm Name', 'Field Id', 'Field Name',\n",
       "       'Crop Zone ID', 'Crop Zone Name', 'Flags', 'Crop Id', 'Crop',\n",
       "       'Crop Season', 'Task Status', 'Task Id', 'Task Name', 'Start Date',\n",
       "       'End Date', 'Duration', 'Product Id', 'Product Name', 'Product Type',\n",
       "       'Category', 'Manufacturer', 'Reg Number', 'Application Method',\n",
       "       'Rate Value', 'Rate Unit', 'Crop Zone Area',\n",
       "       'Percent Of Crop Zone Area', 'Area Applied', 'Total Product Qty',\n",
       "       'Total Product Unit', 'Total Invoice Cost', 'Total Specific Cost',\n",
       "       'Cost Per Crop Zone Area', 'Cost Per Applied Area',\n",
       "       'Average Total Product Unit', 'Invoice Cost Per Area',\n",
       "       'Specific Cost Per Area', 'Grower Share Percent', 'Grower Share Qty',\n",
       "       'Owner Share Qty', 'Product Share Unit', 'Grower Cost', 'Owner Cost',\n",
       "       'Timing Event', 'Timing Event Order', 'Authorizer Id',\n",
       "       'Authorizer Name', 'Authorization Date', 'Applicator s ', 'Start Temp',\n",
       "       'Start Wind Speed', 'Start Wind Direction', 'Start Relative Humidity',\n",
       "       'Start Sky Condition', 'Start Soil Moisture', 'End Temp',\n",
       "       'End Wind Speed', 'End Wind Direction', 'End Humidity',\n",
       "       'End Sky Condition', 'End Soil Moisture', 'Rup', 'PHI days ',\n",
       "       'REI days ', 'PHI date', 'REI date', 'Target Pest', 'N', 'P', 'K', 'Ca',\n",
       "       'Mg', 'S', 'B', 'Cl', 'Cu', 'Fe', 'Mn', 'Mo', 'Zn',\n",
       "       'Active Ingredient'],\n",
       "      dtype='object')"
      ]
     },
     "execution_count": 5,
     "metadata": {},
     "output_type": "execute_result"
    }
   ],
   "source": [
    "df.columns"
   ]
  },
  {
   "cell_type": "code",
   "execution_count": 9,
   "id": "3e2a77ce-5aac-4e45-aca4-e26c01cabedd",
   "metadata": {},
   "outputs": [],
   "source": [
    "grouper = [\n",
    "    'Product Name', 'Product Type', 'Manufacturer', 'Rate Value', 'Rate Unit'\n",
    "]\n",
    "df.groupby(grouper)['Org ID'].count().reset_index().to_csv('data/clean/all_products.csv', index=False)"
   ]
  },
  {
   "cell_type": "code",
   "execution_count": null,
   "id": "871f6a11-0802-4434-98ce-d048ae42d7a8",
   "metadata": {},
   "outputs": [],
   "source": []
  }
 ],
 "metadata": {
  "kernelspec": {
   "display_name": "Python 3 (ipykernel)",
   "language": "python",
   "name": "python3"
  },
  "language_info": {
   "codemirror_mode": {
    "name": "ipython",
    "version": 3
   },
   "file_extension": ".py",
   "mimetype": "text/x-python",
   "name": "python",
   "nbconvert_exporter": "python",
   "pygments_lexer": "ipython3",
   "version": "3.11.2"
  }
 },
 "nbformat": 4,
 "nbformat_minor": 5
}
